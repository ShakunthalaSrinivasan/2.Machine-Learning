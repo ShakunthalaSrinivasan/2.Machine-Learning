{
 "cells": [
  {
   "cell_type": "code",
   "execution_count": 1,
   "id": "46c65f04-5546-4675-9963-87d88608b444",
   "metadata": {},
   "outputs": [],
   "source": [
    "import pickle\n",
    "#pickle is a module which is used to save the python code into a file with file extension .sav"
   ]
  },
  {
   "cell_type": "code",
   "execution_count": 2,
   "id": "6ed0d19c-24ee-432e-9a23-070330bc337f",
   "metadata": {},
   "outputs": [
    {
     "name": "stderr",
     "output_type": "stream",
     "text": [
      "C:\\Users\\ADMIN\\anaconda3\\Lib\\site-packages\\sklearn\\base.py:493: UserWarning: X does not have valid feature names, but LinearRegression was fitted with feature names\n",
      "  warnings.warn(\n"
     ]
    }
   ],
   "source": [
    "loaded_model=pickle.load(open(\"final_model_linear.sav\",'rb'))\n",
    "result=loaded_model.predict([[13]])\n",
    "#load function is used to load the saved model to the variable loaded_model\n",
    "#the working condition of the model is verified with a input and the predicted value is assigned to the variable result"
   ]
  },
  {
   "cell_type": "code",
   "execution_count": 3,
   "id": "abb86802-9aa4-40a8-aab2-4055bcb354f1",
   "metadata": {},
   "outputs": [
    {
     "data": {
      "text/plain": [
       "array([[148460.78806172]])"
      ]
     },
     "execution_count": 3,
     "metadata": {},
     "output_type": "execute_result"
    }
   ],
   "source": [
    "result"
   ]
  },
  {
   "cell_type": "code",
   "execution_count": null,
   "id": "805c7446-10a1-4710-aeb2-89c8814c74aa",
   "metadata": {},
   "outputs": [],
   "source": []
  }
 ],
 "metadata": {
  "kernelspec": {
   "display_name": "Python 3 (ipykernel)",
   "language": "python",
   "name": "python3"
  },
  "language_info": {
   "codemirror_mode": {
    "name": "ipython",
    "version": 3
   },
   "file_extension": ".py",
   "mimetype": "text/x-python",
   "name": "python",
   "nbconvert_exporter": "python",
   "pygments_lexer": "ipython3",
   "version": "3.12.7"
  }
 },
 "nbformat": 4,
 "nbformat_minor": 5
}
